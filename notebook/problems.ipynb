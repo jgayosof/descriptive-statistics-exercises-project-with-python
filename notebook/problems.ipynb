{
    "cells": [
        {
            "cell_type": "markdown",
            "id": "ac622319",
            "metadata": {},
            "source": [
                "# Descriptive Statistics Problems"
            ]
        },
        {
            "cell_type": "markdown",
            "id": "aa8993e4",
            "metadata": {},
            "source": [
                "### Exercise 1"
            ]
        },
        {
            "cell_type": "markdown",
            "id": "5e0ab0d5",
            "metadata": {},
            "source": [
                "As right now, you are familliar with numpy, we are going to use numpy to get some data statistics.\n",
                "\n",
                "First, lets create an array of 20 elements distributed normally (Gaussian):\n",
                "\n",
                "Use the np.random.normal function to create some data, using 0,1,20 as parameters because we want a one dimentional array of 20 numbers distributed normally (Gaussian)"
            ]
        },
        {
            "cell_type": "code",
            "execution_count": 43,
            "id": "34720ab6",
            "metadata": {},
            "outputs": [
                {
                    "name": "stdout",
                    "output_type": "stream",
                    "text": [
                        "[-1.03431494  1.76243192  1.54980571  2.38005142  0.94303798 -3.73999141\n",
                        " -1.60190441 -0.78563723  0.1848107   0.10132882  0.65527174  1.57501622\n",
                        "  0.92420195 -1.50138609 -0.65026465 -0.34162748  0.51632094 -0.83825598\n",
                        "  1.66088311 -0.37968736]\n"
                    ]
                }
            ],
            "source": [
                "#import libraries\n",
                "import numpy as np\n",
                "import math\n",
                "\n",
                "# Set seed in order to get similar results\n",
                "mean = 0    # Mean\n",
                "std = 1     # Standard Deviation\n",
                "size = 20   # Large\n",
                "\n",
                "# create the data\n",
                "# Array with 20 random (N(mean=0,std=1)):\n",
                "elements = np.random.normal(loc=mean, scale=std, size=size)\n",
                "\n",
                "#print results\n",
                "print(elements)"
            ]
        },
        {
            "cell_type": "code",
            "execution_count": 44,
            "id": "49c55822",
            "metadata": {},
            "outputs": [
                {
                    "name": "stdout",
                    "output_type": "stream",
                    "text": [
                        "Element's mean:  0.0690045467318802\n"
                    ]
                }
            ],
            "source": [
                "#Use numpy to get the mean of your data\n",
                "elements_mean = np.mean(elements)\n",
                "print(\"Element's mean: \", elements_mean)"
            ]
        },
        {
            "cell_type": "code",
            "execution_count": 45,
            "id": "03529459",
            "metadata": {},
            "outputs": [
                {
                    "name": "stdout",
                    "output_type": "stream",
                    "text": [
                        "Element's variance:  2.0340880862646253\n"
                    ]
                }
            ],
            "source": [
                "#get the variance of your data\n",
                "elements_var = np.var(elements)\n",
                "print(\"Element's variance: \", elements_var)"
            ]
        },
        {
            "cell_type": "code",
            "execution_count": 46,
            "id": "e53f30c5",
            "metadata": {},
            "outputs": [
                {
                    "name": "stdout",
                    "output_type": "stream",
                    "text": [
                        "Element's Standard Desviation with np.std(elements):  1.426214600354598\n",
                        "Element's Standard Desviation with sqrt(var):  1.426214600354598\n"
                    ]
                }
            ],
            "source": [
                "# Standard deviation\n",
                "elements_std = np.std(elements)\n",
                "print(\"Element's Standard Desviation with np.std(elements): \", elements_std)\n",
                "print(\"Element's Standard Desviation with sqrt(var): \", math.sqrt(elements_var))\n"
            ]
        },
        {
            "cell_type": "code",
            "execution_count": 39,
            "id": "9bce852f",
            "metadata": {},
            "outputs": [],
            "source": [
                "#import libraries and print the mode\n",
                "\n",
                "\n",
                "# Mode for continuous array\n"
            ]
        },
        {
            "cell_type": "code",
            "execution_count": 47,
            "id": "c682cb6e",
            "metadata": {},
            "outputs": [
                {
                    "name": "stdout",
                    "output_type": "stream",
                    "text": [
                        "Element's median:  0.14306975857972803\n"
                    ]
                }
            ],
            "source": [
                "# Median\n",
                "elements_median = np.median(elements)\n",
                "print(\"Element's median: \", elements_median)"
            ]
        },
        {
            "cell_type": "code",
            "execution_count": 48,
            "id": "39c3fabd",
            "metadata": {},
            "outputs": [
                {
                    "name": "stdout",
                    "output_type": "stream",
                    "text": [
                        "Q1 =  -0.7987919212570617\n",
                        "Q2 =  0.14306975857972803\n",
                        "Q3 =  1.094729913803486\n"
                    ]
                }
            ],
            "source": [
                "# Print the Quantiles\n",
                "q1 = 0.25   # Q1\n",
                "q2 = 0.5    # Q2\n",
                "q3 = 0.75   # Q3\n",
                "q4 = 1      # Q4\n",
                "\n",
                "Q1, Q2, Q3 = np.quantile(elements, q=[q1, q2, q3])\n",
                "\n",
                "print(\"Q1 = \", Q1)\n",
                "print(\"Q2 = \", Q2)\n",
                "print(\"Q3 = \", Q3)\n",
                "\n",
                "# This match with np.median, why?\n",
                "print('Q2 matches the median as expected')\n"
            ]
        },
        {
            "cell_type": "markdown",
            "id": "46c70c3d",
            "metadata": {},
            "source": [
                "### Exercise 2\n",
                "\n",
                "Write a Python program to calculate the standard deviation of the following data:\n",
                "```py\n",
                "data = [4, 2, 5, 8, 6]\n",
                "```"
            ]
        },
        {
            "cell_type": "code",
            "execution_count": 1,
            "id": "d590308e",
            "metadata": {},
            "outputs": [
                {
                    "name": "stdout",
                    "output_type": "stream",
                    "text": [
                        "The std of [4 2 5 8 6] is: 2.0\n",
                        "The avg of [4 2 5 8 6] is: 5.0\n"
                    ]
                }
            ],
            "source": [
                "import math\n",
                "import sys\n",
                "import numpy as np\n",
                "\n",
                "data = [4, 2, 5, 8, 6]\n",
                "data = np.array(data)\n",
                "\n",
                "# Define the standard deviation function\n",
                "def sd_calc(data) :\n",
                "    #code here\n",
                "    return np.std(data) \n",
                "    \n",
                "# calculate stan. dev.\n",
                "sd = sd_calc(data)\n",
                "print('The std of ' +str(data)+ ' is: ' +str(sd))\n",
                "\n",
                "# Define the average function\n",
                "def avg_calc(ls) :\n",
                "    #code here\n",
                "    return np.average (ls)   \n",
                "\n",
                "# calculate average\n",
                "ls = data\n",
                "avg = avg_calc(ls)\n",
                "print('The avg of ' +str(data)+ ' is: ' +str(avg))\n",
                "\n",
                "#print the data\n",
                "#print the standard deviation of the data"
            ]
        },
        {
            "cell_type": "markdown",
            "id": "04b71791",
            "metadata": {},
            "source": [
                "Source:\n",
                "\n",
                "https://www.w3resource.com/"
            ]
        }
    ],
    "metadata": {
        "kernelspec": {
            "display_name": "Python 3.8.13 64-bit ('3.8.13')",
            "language": "python",
            "name": "python3"
        },
        "language_info": {
            "codemirror_mode": {
                "name": "ipython",
                "version": 3
            },
            "file_extension": ".py",
            "mimetype": "text/x-python",
            "name": "python",
            "nbconvert_exporter": "python",
            "pygments_lexer": "ipython3",
            "version": "3.8.13"
        },
        "vscode": {
            "interpreter": {
                "hash": "110cc1dee26208153f2972f08a2ad52b6a56238dc66d48e87fb757ef2996db56"
            }
        }
    },
    "nbformat": 4,
    "nbformat_minor": 5
}
